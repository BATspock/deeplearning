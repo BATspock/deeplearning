{
 "cells": [
  {
   "cell_type": "code",
   "execution_count": 1,
   "metadata": {},
   "outputs": [],
   "source": [
    "import numpy as np\n",
    "import tensorflow as tf\n",
    "from tensorflow import keras\n",
    "from keras.models import Sequential\n",
    "from keras.layers import Dense, Activation, Flatten, BatchNormalization, Conv2D, MaxPool2D\n",
    "from tensorflow.keras.optimizers import Adam\n",
    "from keras. metrics import categorical_crossentropy\n",
    "from tensorflow.keras.preprocessing.image import ImageDataGenerator\n",
    "from sklearn.metrics import confusion_matrix \n",
    "import itertools\n",
    "import os \n",
    "import shutil\n",
    "import random\n",
    "import glob\n",
    "import matplotlib.pyplot as plt \n",
    "import warnings\n",
    "warnings.simplefilter(action='ignore', category=FutureWarning)\n",
    "%matplotlib inline"
   ]
  },
  {
   "cell_type": "markdown",
   "metadata": {},
   "source": [
    "# Data prepration "
   ]
  },
  {
   "cell_type": "code",
   "execution_count": 3,
   "metadata": {},
   "outputs": [],
   "source": [
    "os.chdir('C:\\\\Users\\\\akish\\\\Downloads\\\\train')"
   ]
  },
  {
   "cell_type": "code",
   "execution_count": 4,
   "metadata": {},
   "outputs": [],
   "source": [
    "if os.path.isdir('train\\\\dog') is False:\n",
    "    os.makedirs('train\\\\dog')\n",
    "    os.makedirs('train\\\\cat')\n",
    "    os.makedirs('valid\\\\dog')\n",
    "    os.makedirs('valid\\\\cat')\n",
    "    os.makedirs('test\\\\dog')\n",
    "    os.makedirs('test\\\\cat')"
   ]
  },
  {
   "cell_type": "code",
   "execution_count": 5,
   "metadata": {},
   "outputs": [
    {
     "data": {
      "text/plain": [
       "['C:\\\\Users\\\\akish\\\\Downloads\\\\train',\n",
       " 'C:\\\\Users\\\\akish\\\\Downloads\\\\train\\\\test',\n",
       " 'C:\\\\Users\\\\akish\\\\Downloads\\\\train\\\\test\\\\cat',\n",
       " 'C:\\\\Users\\\\akish\\\\Downloads\\\\train\\\\test\\\\dog',\n",
       " 'C:\\\\Users\\\\akish\\\\Downloads\\\\train\\\\train',\n",
       " 'C:\\\\Users\\\\akish\\\\Downloads\\\\train\\\\train\\\\cat',\n",
       " 'C:\\\\Users\\\\akish\\\\Downloads\\\\train\\\\train\\\\dog',\n",
       " 'C:\\\\Users\\\\akish\\\\Downloads\\\\train\\\\valid',\n",
       " 'C:\\\\Users\\\\akish\\\\Downloads\\\\train\\\\valid\\\\cat',\n",
       " 'C:\\\\Users\\\\akish\\\\Downloads\\\\train\\\\valid\\\\dog']"
      ]
     },
     "execution_count": 5,
     "metadata": {},
     "output_type": "execute_result"
    }
   ],
   "source": [
    "[x[0] for x in os.walk(os.getcwd())]"
   ]
  },
  {
   "cell_type": "code",
   "execution_count": 6,
   "metadata": {},
   "outputs": [],
   "source": [
    "for i in random.sample(glob.glob('cat*'), 500):\n",
    "    shutil.move(i, 'train\\\\cat')      \n",
    "for i in random.sample(glob.glob('dog*'), 500):\n",
    "    shutil.move(i, 'train\\\\dog')\n",
    "for i in random.sample(glob.glob('cat*'), 100):\n",
    "    shutil.move(i, 'valid\\\\cat')        \n",
    "for i in random.sample(glob.glob('dog*'), 100):\n",
    "    shutil.move(i, 'valid\\\\dog')\n",
    "for i in random.sample(glob.glob('cat*'), 50):\n",
    "    shutil.move(i, 'test\\\\cat')      \n",
    "for i in random.sample(glob.glob('dog*'), 50):\n",
    "    shutil.move(i, 'test\\\\dog')\n"
   ]
  },
  {
   "cell_type": "code",
   "execution_count": 7,
   "metadata": {},
   "outputs": [],
   "source": [
    "os.chdir('C:\\\\Users\\\\akish\\\\Documents\\\\deeplearning')"
   ]
  },
  {
   "cell_type": "code",
   "execution_count": 8,
   "metadata": {},
   "outputs": [
    {
     "data": {
      "text/plain": [
       "'C:\\\\Users\\\\akish\\\\Documents\\\\deeplearning'"
      ]
     },
     "execution_count": 8,
     "metadata": {},
     "output_type": "execute_result"
    }
   ],
   "source": [
    "os.getcwd()"
   ]
  },
  {
   "cell_type": "code",
   "execution_count": 9,
   "metadata": {},
   "outputs": [
    {
     "data": {
      "text/plain": [
       "['.git',\n",
       " '.ipynb_checkpoints',\n",
       " 'CNN with keras.ipynb',\n",
       " 'CVwithPyTorch.ipynb',\n",
       " 'keras sequential model.ipynb',\n",
       " 'Keras.ipynb',\n",
       " 'models',\n",
       " 'predicting and saving models using keras.ipynb',\n",
       " 'PytorchWorkingwithDatasets.ipynb',\n",
       " 'pytorch_intro.ipynb',\n",
       " 'readme.md']"
      ]
     },
     "execution_count": 9,
     "metadata": {},
     "output_type": "execute_result"
    }
   ],
   "source": [
    "os.listdir()"
   ]
  },
  {
   "cell_type": "code",
   "execution_count": null,
   "metadata": {},
   "outputs": [],
   "source": []
  }
 ],
 "metadata": {
  "kernelspec": {
   "display_name": "Python 3",
   "language": "python",
   "name": "python3"
  },
  "language_info": {
   "codemirror_mode": {
    "name": "ipython",
    "version": 3
   },
   "file_extension": ".py",
   "mimetype": "text/x-python",
   "name": "python",
   "nbconvert_exporter": "python",
   "pygments_lexer": "ipython3",
   "version": "3.8.5"
  }
 },
 "nbformat": 4,
 "nbformat_minor": 4
}
