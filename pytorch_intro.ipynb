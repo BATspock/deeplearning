{
  "nbformat": 4,
  "nbformat_minor": 0,
  "metadata": {
    "colab": {
      "name": "pytorch_intro.ipynb",
      "provenance": [],
      "authorship_tag": "ABX9TyOfnxUr+mSMrOYL4Ck8viQ6",
      "include_colab_link": true
    },
    "kernelspec": {
      "name": "python3",
      "display_name": "Python 3"
    },
    "language_info": {
      "name": "python"
    }
  },
  "cells": [
    {
      "cell_type": "markdown",
      "metadata": {
        "id": "view-in-github",
        "colab_type": "text"
      },
      "source": [
        "<a href=\"https://colab.research.google.com/github/BATspock/deeplearning/blob/master/pytorch_intro.ipynb\" target=\"_parent\"><img src=\"https://colab.research.google.com/assets/colab-badge.svg\" alt=\"Open In Colab\"/></a>"
      ]
    },
    {
      "cell_type": "code",
      "metadata": {
        "id": "-gpppD5Z5tgo"
      },
      "source": [
        "import numpy as np\n",
        "import pandas as pd"
      ],
      "execution_count": null,
      "outputs": []
    },
    {
      "cell_type": "code",
      "metadata": {
        "colab": {
          "base_uri": "https://localhost:8080/"
        },
        "id": "HPe6yIvA680d",
        "outputId": "f0b4b7fd-cc80-4271-829d-e32856f73095"
      },
      "source": [
        "!pip install torch torchvision"
      ],
      "execution_count": null,
      "outputs": [
        {
          "output_type": "stream",
          "text": [
            "Requirement already satisfied: torch in /usr/local/lib/python3.7/dist-packages (1.9.0+cu102)\n",
            "Requirement already satisfied: torchvision in /usr/local/lib/python3.7/dist-packages (0.10.0+cu102)\n",
            "Requirement already satisfied: typing-extensions in /usr/local/lib/python3.7/dist-packages (from torch) (3.7.4.3)\n",
            "Requirement already satisfied: pillow>=5.3.0 in /usr/local/lib/python3.7/dist-packages (from torchvision) (7.1.2)\n",
            "Requirement already satisfied: numpy in /usr/local/lib/python3.7/dist-packages (from torchvision) (1.19.5)\n"
          ],
          "name": "stdout"
        }
      ]
    },
    {
      "cell_type": "code",
      "metadata": {
        "colab": {
          "base_uri": "https://localhost:8080/"
        },
        "id": "7DxG1Mpl7U9U",
        "outputId": "3d2eef90-d545-4f0f-bce9-c6743487bedc"
      },
      "source": [
        "!pip install scikit-image"
      ],
      "execution_count": null,
      "outputs": [
        {
          "output_type": "stream",
          "text": [
            "Requirement already satisfied: scikit-image in /usr/local/lib/python3.7/dist-packages (0.16.2)\n",
            "Requirement already satisfied: matplotlib!=3.0.0,>=2.0.0 in /usr/local/lib/python3.7/dist-packages (from scikit-image) (3.2.2)\n",
            "Requirement already satisfied: pillow>=4.3.0 in /usr/local/lib/python3.7/dist-packages (from scikit-image) (7.1.2)\n",
            "Requirement already satisfied: networkx>=2.0 in /usr/local/lib/python3.7/dist-packages (from scikit-image) (2.5.1)\n",
            "Requirement already satisfied: scipy>=0.19.0 in /usr/local/lib/python3.7/dist-packages (from scikit-image) (1.4.1)\n",
            "Requirement already satisfied: PyWavelets>=0.4.0 in /usr/local/lib/python3.7/dist-packages (from scikit-image) (1.1.1)\n",
            "Requirement already satisfied: imageio>=2.3.0 in /usr/local/lib/python3.7/dist-packages (from scikit-image) (2.4.1)\n",
            "Requirement already satisfied: pyparsing!=2.0.4,!=2.1.2,!=2.1.6,>=2.0.1 in /usr/local/lib/python3.7/dist-packages (from matplotlib!=3.0.0,>=2.0.0->scikit-image) (2.4.7)\n",
            "Requirement already satisfied: python-dateutil>=2.1 in /usr/local/lib/python3.7/dist-packages (from matplotlib!=3.0.0,>=2.0.0->scikit-image) (2.8.1)\n",
            "Requirement already satisfied: kiwisolver>=1.0.1 in /usr/local/lib/python3.7/dist-packages (from matplotlib!=3.0.0,>=2.0.0->scikit-image) (1.3.1)\n",
            "Requirement already satisfied: cycler>=0.10 in /usr/local/lib/python3.7/dist-packages (from matplotlib!=3.0.0,>=2.0.0->scikit-image) (0.10.0)\n",
            "Requirement already satisfied: numpy>=1.11 in /usr/local/lib/python3.7/dist-packages (from matplotlib!=3.0.0,>=2.0.0->scikit-image) (1.19.5)\n",
            "Requirement already satisfied: decorator<5,>=4.3 in /usr/local/lib/python3.7/dist-packages (from networkx>=2.0->scikit-image) (4.4.2)\n",
            "Requirement already satisfied: six>=1.5 in /usr/local/lib/python3.7/dist-packages (from python-dateutil>=2.1->matplotlib!=3.0.0,>=2.0.0->scikit-image) (1.15.0)\n"
          ],
          "name": "stdout"
        }
      ]
    },
    {
      "cell_type": "code",
      "metadata": {
        "id": "NnNW9D777aA6"
      },
      "source": [
        "from collections import OrderedDict\n",
        "import torch.nn as nn"
      ],
      "execution_count": null,
      "outputs": []
    },
    {
      "cell_type": "code",
      "metadata": {
        "id": "lUrNhvWh8KYq"
      },
      "source": [
        "def get_training_model(inFeatures = 4, hiddenDim = 8, nbClasses = 3):\n",
        "  mlpModel = nn.Sequential(OrderedDict([\n",
        "                                        (\"hidden_layer_1\", nn.Linear(inFeatures, hiddenDim)),\n",
        "                                        (\"activation_1\", nn.ReLU()),\n",
        "                                        (\"output_layer\", nn.Linear(hiddenDim, nbClasses))\n",
        "  ]))\n",
        "\n",
        "  return mlpModel"
      ],
      "execution_count": null,
      "outputs": []
    },
    {
      "cell_type": "code",
      "metadata": {
        "id": "3pKZfPTZ9EKF"
      },
      "source": [
        "from torch.optim import SGD\n",
        "from sklearn.model_selection import train_test_split\n",
        "from sklearn.datasets import make_blobs\n",
        "import torch.nn as nn\n",
        "import torch"
      ],
      "execution_count": null,
      "outputs": []
    },
    {
      "cell_type": "code",
      "metadata": {
        "id": "ZEut7-bJ9gVq"
      },
      "source": [
        "def next_batch(inputs, targets, batchSize):\n",
        "\t# loop over the dataset\n",
        "\tfor i in range(0, inputs.shape[0], batchSize):\n",
        "\t\t# yield a tuple of the current batched data and labels\n",
        "\t\tyield (inputs[i:i + batchSize], targets[i:i + batchSize])"
      ],
      "execution_count": null,
      "outputs": []
    },
    {
      "cell_type": "code",
      "metadata": {
        "colab": {
          "base_uri": "https://localhost:8080/"
        },
        "id": "N2hlEep49qua",
        "outputId": "b8538ef6-4b00-464d-c7a1-1161057d5bca"
      },
      "source": [
        "BATCH_SIZE = 64\n",
        "EPOCHS = 10\n",
        "LR = 1e-2\n",
        "# determine the device we will be using for training\n",
        "DEVICE = \"cuda\" if torch.cuda.is_available() else \"cpu\"\n",
        "print(\"[INFO] training using {}...\".format(DEVICE))"
      ],
      "execution_count": null,
      "outputs": [
        {
          "output_type": "stream",
          "text": [
            "[INFO] training using cpu...\n"
          ],
          "name": "stdout"
        }
      ]
    },
    {
      "cell_type": "code",
      "metadata": {
        "colab": {
          "base_uri": "https://localhost:8080/"
        },
        "id": "LiIoSzrS9z5Y",
        "outputId": "82b7c893-8c46-4702-84e4-10790059a0f5"
      },
      "source": [
        "print(\"[INFO] preparing data...\")\n",
        "(X, y) = make_blobs(n_samples=1000, n_features=4, centers=3,\n",
        "\tcluster_std=2.5, random_state=95)\n",
        "# create training and testing splits, and convert them to PyTorch\n",
        "# tensors\n",
        "(trainX, testX, trainY, testY) = train_test_split(X, y,\ttest_size=0.15, random_state=95)\n",
        "trainX = torch.from_numpy(trainX).float()\n",
        "testX = torch.from_numpy(testX).float()\n",
        "trainY = torch.from_numpy(trainY).float()\n",
        "testY = torch.from_numpy(testY).float()"
      ],
      "execution_count": null,
      "outputs": [
        {
          "output_type": "stream",
          "text": [
            "[INFO] preparing data...\n"
          ],
          "name": "stdout"
        }
      ]
    },
    {
      "cell_type": "code",
      "metadata": {
        "colab": {
          "base_uri": "https://localhost:8080/"
        },
        "id": "QJZExGUa-A_Z",
        "outputId": "6907c042-896c-451a-dc48-875b0ec44fbb"
      },
      "source": [
        "mlp = get_training_model().to(DEVICE)\n",
        "print(mlp)\n",
        "# initialize optimizer and loss function\n",
        "opt = SGD(mlp.parameters(), lr=LR)\n",
        "lossFunc = nn.CrossEntropyLoss()"
      ],
      "execution_count": null,
      "outputs": [
        {
          "output_type": "stream",
          "text": [
            "Sequential(\n",
            "  (hidden_layer_1): Linear(in_features=4, out_features=8, bias=True)\n",
            "  (activation_1): ReLU()\n",
            "  (output_layer): Linear(in_features=8, out_features=3, bias=True)\n",
            ")\n"
          ],
          "name": "stdout"
        }
      ]
    },
    {
      "cell_type": "code",
      "metadata": {
        "colab": {
          "base_uri": "https://localhost:8080/"
        },
        "id": "M1fKpnzj-NYK",
        "outputId": "3ece3653-dd74-4d94-edbd-4fd6d5f9b59d"
      },
      "source": [
        "trainTemplate = \"epoch: {} test loss: {:.3f} test accuracy: {:.3f}\"\n",
        "# loop through the epochs\n",
        "for epoch in range(0, EPOCHS):\n",
        "\t# initialize tracker variables and set our model to trainable\n",
        "\tprint(\"[INFO] epoch: {}...\".format(epoch + 1))\n",
        "\ttrainLoss = 0\n",
        "\ttrainAcc = 0\n",
        "\tsamples = 0\n",
        "\tmlp.train()\n",
        "\t# loop over the current batch of data\n",
        "\tfor (batchX, batchY) in next_batch(trainX, trainY, BATCH_SIZE):\n",
        "\t\t# flash data to the current device, run it through our\n",
        "\t\t# model, and calculate loss\n",
        "\t\t(batchX, batchY) = (batchX.to(DEVICE), batchY.to(DEVICE))\n",
        "\t\tpredictions = mlp(batchX)\n",
        "\t\tloss = lossFunc(predictions, batchY.long())\n",
        "\t\t# zero the gradients accumulated from the previous steps,\n",
        "\t\t# perform backpropagation, and update model parameters\n",
        "\t\topt.zero_grad()\n",
        "\t\tloss.backward()\n",
        "\t\topt.step()\n",
        "\t\t# update training loss, accuracy, and the number of samples\n",
        "\t\t# visited\n",
        "\t\ttrainLoss += loss.item() * batchY.size(0)\n",
        "\t\ttrainAcc += (predictions.max(1)[1] == batchY).sum().item()\n",
        "\t\tsamples += batchY.size(0)\n",
        "\t# display model progress on the current training batch\n",
        "\ttrainTemplate = \"epoch: {} train loss: {:.3f} train accuracy: {:.3f}\"\n",
        "\tprint(trainTemplate.format(epoch + 1, (trainLoss / samples),\n",
        "\t\t(trainAcc / samples)))"
      ],
      "execution_count": null,
      "outputs": [
        {
          "output_type": "stream",
          "text": [
            "[INFO] epoch: 1...\n",
            "epoch: 1 train loss: 1.153 train accuracy: 0.401\n",
            "[INFO] epoch: 2...\n",
            "epoch: 2 train loss: 0.603 train accuracy: 0.767\n",
            "[INFO] epoch: 3...\n",
            "epoch: 3 train loss: 0.394 train accuracy: 0.939\n",
            "[INFO] epoch: 4...\n",
            "epoch: 4 train loss: 0.281 train accuracy: 0.975\n",
            "[INFO] epoch: 5...\n",
            "epoch: 5 train loss: 0.212 train accuracy: 0.980\n",
            "[INFO] epoch: 6...\n",
            "epoch: 6 train loss: 0.169 train accuracy: 0.985\n",
            "[INFO] epoch: 7...\n",
            "epoch: 7 train loss: 0.142 train accuracy: 0.984\n",
            "[INFO] epoch: 8...\n",
            "epoch: 8 train loss: 0.123 train accuracy: 0.985\n",
            "[INFO] epoch: 9...\n",
            "epoch: 9 train loss: 0.110 train accuracy: 0.986\n",
            "[INFO] epoch: 10...\n",
            "epoch: 10 train loss: 0.100 train accuracy: 0.986\n"
          ],
          "name": "stdout"
        }
      ]
    },
    {
      "cell_type": "code",
      "metadata": {
        "colab": {
          "base_uri": "https://localhost:8080/"
        },
        "id": "reyOYDmf_qTP",
        "outputId": "f79b4772-662c-4c5f-d3d3-bcf7dc10b7e9"
      },
      "source": [
        "\t# evaluation mode\n",
        "\ttestLoss = 0\n",
        "\ttestAcc = 0\n",
        "\tsamples = 0\n",
        "\tmlp.eval()\n",
        "\t# initialize a no-gradient context\n",
        "\twith torch.no_grad():\n",
        "\t\t# loop over the current batch of test data\n",
        "\t\tfor (batchX, batchY) in next_batch(testX, testY, BATCH_SIZE):\n",
        "\t\t\t# flash the data to the current device\n",
        "\t\t\t(batchX, batchY) = (batchX.to(DEVICE), batchY.to(DEVICE))\n",
        "\t\t\t# run data through our model and calculate loss\n",
        "\t\t\tpredictions = mlp(batchX)\n",
        "\t\t\tloss = lossFunc(predictions, batchY.long())\n",
        "\t\t\t# update test loss, accuracy, and the number of\n",
        "\t\t\t# samples visited\n",
        "\t\t\ttestLoss += loss.item() * batchY.size(0)\n",
        "\t\t\ttestAcc += (predictions.max(1)[1] == batchY).sum().item()\n",
        "\t\t\tsamples += batchY.size(0)\n",
        "\t\t# display model progress on the current test batch\n",
        "\t\ttestTemplate = \"epoch: {} test loss: {:.3f} test accuracy: {:.3f}\"\n",
        "\t\tprint(testTemplate.format(epoch + 1, (testLoss / samples),\n",
        "\t\t\t(testAcc / samples)))\n",
        "\t\tprint(\"\")"
      ],
      "execution_count": null,
      "outputs": [
        {
          "output_type": "stream",
          "text": [
            "epoch: 10 test loss: 0.086 test accuracy: 0.993\n",
            "\n"
          ],
          "name": "stdout"
        }
      ]
    },
    {
      "cell_type": "markdown",
      "metadata": {
        "id": "YUn4YdlW2-ZZ"
      },
      "source": [
        "# PyTorch Microsoft Tutorial"
      ]
    },
    {
      "cell_type": "code",
      "metadata": {
        "id": "cuwKrz853DX5"
      },
      "source": [
        "# Tensors \n",
        "\n",
        "%matplotlib inline\n",
        "\n",
        "import torch\n",
        "import numpy as np"
      ],
      "execution_count": 2,
      "outputs": []
    },
    {
      "cell_type": "code",
      "metadata": {
        "id": "fVwbms1w3Yi_"
      },
      "source": [
        "arr = [[1,2], [3,4]]\n",
        "np_data = torch.from_numpy(np.array(arr))"
      ],
      "execution_count": 3,
      "outputs": []
    },
    {
      "cell_type": "code",
      "metadata": {
        "colab": {
          "base_uri": "https://localhost:8080/"
        },
        "id": "Cr_OfLO9KhDA",
        "outputId": "862f1fbb-d6e4-4f8e-d3a9-3b694ab4ff8b"
      },
      "source": [
        "#torch ones \n",
        "ones_tensor = torch.ones_like(np_data)\n",
        "#torch random vectors\n",
        "rand_tensor = torch.rand_like(np_data, dtype=torch.float)\n",
        "#zeros \n",
        "zero_tensor = torch.zeros((2,3))\n",
        "zero_tensor"
      ],
      "execution_count": 4,
      "outputs": [
        {
          "output_type": "execute_result",
          "data": {
            "text/plain": [
              "tensor([[0., 0., 0.],\n",
              "        [0., 0., 0.]])"
            ]
          },
          "metadata": {
            "tags": []
          },
          "execution_count": 4
        }
      ]
    },
    {
      "cell_type": "code",
      "metadata": {
        "colab": {
          "base_uri": "https://localhost:8080/"
        },
        "id": "rGZeq9upKuAS",
        "outputId": "d77c31d5-a4c0-4729-e7b7-421d5b185276"
      },
      "source": [
        "rand_tensor.shape, rand_tensor.dtype"
      ],
      "execution_count": 5,
      "outputs": [
        {
          "output_type": "execute_result",
          "data": {
            "text/plain": [
              "(torch.Size([2, 2]), torch.float32)"
            ]
          },
          "metadata": {
            "tags": []
          },
          "execution_count": 5
        }
      ]
    },
    {
      "cell_type": "code",
      "metadata": {
        "colab": {
          "base_uri": "https://localhost:8080/"
        },
        "id": "sIgjjvMymMjQ",
        "outputId": "36e338ae-bde6-4151-9b34-043b931c4454"
      },
      "source": [
        "tensor = torch.ones((4,4))\n",
        "print(tensor[0])\n",
        "print(\"First column\", tensor[:,0])\n",
        "print(\"Last column\", tensor[...,-1])\n",
        "tensor[:,1] = 0 \n",
        "print(tensor)"
      ],
      "execution_count": 4,
      "outputs": [
        {
          "output_type": "stream",
          "text": [
            "tensor([1., 1., 1., 1.])\n",
            "First column tensor([1., 1., 1., 1.])\n",
            "Last column tensor([1., 1., 1., 1.])\n",
            "tensor([[1., 0., 1., 1.],\n",
            "        [1., 0., 1., 1.],\n",
            "        [1., 0., 1., 1.],\n",
            "        [1., 0., 1., 1.]])\n"
          ],
          "name": "stdout"
        }
      ]
    },
    {
      "cell_type": "code",
      "metadata": {
        "colab": {
          "base_uri": "https://localhost:8080/"
        },
        "id": "OoxuTaECmeBv",
        "outputId": "e7d2a632-077e-4152-be3a-7957e7d65d72"
      },
      "source": [
        "t = torch.cat([tensor, tensor, tensor], dim = 1)\n",
        "t"
      ],
      "execution_count": 13,
      "outputs": [
        {
          "output_type": "execute_result",
          "data": {
            "text/plain": [
              "tensor([[1., 0., 1., 1., 1., 0., 1., 1., 1., 0., 1., 1.],\n",
              "        [1., 0., 1., 1., 1., 0., 1., 1., 1., 0., 1., 1.],\n",
              "        [1., 0., 1., 1., 1., 0., 1., 1., 1., 0., 1., 1.],\n",
              "        [1., 0., 1., 1., 1., 0., 1., 1., 1., 0., 1., 1.]])"
            ]
          },
          "metadata": {
            "tags": []
          },
          "execution_count": 13
        }
      ]
    },
    {
      "cell_type": "code",
      "metadata": {
        "colab": {
          "base_uri": "https://localhost:8080/"
        },
        "id": "fQEuxtAhnJqy",
        "outputId": "4b4ee801-7ab8-4ccb-8f57-e994fb0abcf4"
      },
      "source": [
        "t = torch.cat([tensor, tensor, tensor], dim = 0)\n",
        "t"
      ],
      "execution_count": 12,
      "outputs": [
        {
          "output_type": "execute_result",
          "data": {
            "text/plain": [
              "tensor([[1., 0., 1., 1.],\n",
              "        [1., 0., 1., 1.],\n",
              "        [1., 0., 1., 1.],\n",
              "        [1., 0., 1., 1.],\n",
              "        [1., 0., 1., 1.],\n",
              "        [1., 0., 1., 1.],\n",
              "        [1., 0., 1., 1.],\n",
              "        [1., 0., 1., 1.],\n",
              "        [1., 0., 1., 1.],\n",
              "        [1., 0., 1., 1.],\n",
              "        [1., 0., 1., 1.],\n",
              "        [1., 0., 1., 1.]])"
            ]
          },
          "metadata": {
            "tags": []
          },
          "execution_count": 12
        }
      ]
    },
    {
      "cell_type": "code",
      "metadata": {
        "id": "3y49vy4tnKYT"
      },
      "source": [
        ""
      ],
      "execution_count": null,
      "outputs": []
    },
    {
      "cell_type": "markdown",
      "metadata": {
        "id": "I4SpdoQUnXkq"
      },
      "source": [
        "# Arithmetic Operations"
      ]
    },
    {
      "cell_type": "code",
      "metadata": {
        "colab": {
          "base_uri": "https://localhost:8080/"
        },
        "id": "BCHkRoB8narY",
        "outputId": "15c219e7-e722-4127-afd5-61980562113e"
      },
      "source": [
        "#matrix multiplication\n",
        "y1 = tensor @ tensor.T\n",
        "y2 = tensor.matmul(tensor.T)\n",
        "y3 = torch.rand_like(tensor)\n",
        "torch.matmul(tensor, tensor.T, out=y3)"
      ],
      "execution_count": 5,
      "outputs": [
        {
          "output_type": "execute_result",
          "data": {
            "text/plain": [
              "tensor([[3., 3., 3., 3.],\n",
              "        [3., 3., 3., 3.],\n",
              "        [3., 3., 3., 3.],\n",
              "        [3., 3., 3., 3.]])"
            ]
          },
          "metadata": {
            "tags": []
          },
          "execution_count": 5
        }
      ]
    },
    {
      "cell_type": "code",
      "metadata": {
        "colab": {
          "base_uri": "https://localhost:8080/"
        },
        "id": "wdaBSLEPH87G",
        "outputId": "f2a726cd-a298-43d7-b04c-aac35fc72576"
      },
      "source": [
        "y1, y2, y3"
      ],
      "execution_count": 6,
      "outputs": [
        {
          "output_type": "execute_result",
          "data": {
            "text/plain": [
              "(tensor([[3., 3., 3., 3.],\n",
              "         [3., 3., 3., 3.],\n",
              "         [3., 3., 3., 3.],\n",
              "         [3., 3., 3., 3.]]), tensor([[3., 3., 3., 3.],\n",
              "         [3., 3., 3., 3.],\n",
              "         [3., 3., 3., 3.],\n",
              "         [3., 3., 3., 3.]]), tensor([[3., 3., 3., 3.],\n",
              "         [3., 3., 3., 3.],\n",
              "         [3., 3., 3., 3.],\n",
              "         [3., 3., 3., 3.]]))"
            ]
          },
          "metadata": {
            "tags": []
          },
          "execution_count": 6
        }
      ]
    },
    {
      "cell_type": "code",
      "metadata": {
        "colab": {
          "base_uri": "https://localhost:8080/"
        },
        "id": "6UFmEu6tH-b1",
        "outputId": "0eb858fc-7f9c-4005-8a76-026d8d50ffbd"
      },
      "source": [
        "# element wise multiplication\n",
        "\n",
        "z1 = tensor*tensor\n",
        "z2 = tensor.mul(tensor)\n",
        "z3 = torch.rand_like(tensor)\n",
        "torch.mul(tensor, tensor, out=z3)"
      ],
      "execution_count": 8,
      "outputs": [
        {
          "output_type": "execute_result",
          "data": {
            "text/plain": [
              "tensor([[1., 0., 1., 1.],\n",
              "        [1., 0., 1., 1.],\n",
              "        [1., 0., 1., 1.],\n",
              "        [1., 0., 1., 1.]])"
            ]
          },
          "metadata": {
            "tags": []
          },
          "execution_count": 8
        }
      ]
    },
    {
      "cell_type": "code",
      "metadata": {
        "colab": {
          "base_uri": "https://localhost:8080/"
        },
        "id": "e_EBUsJoIVLN",
        "outputId": "f767d6dd-7fd4-4eaa-cc0f-19a9c45d60e8"
      },
      "source": [
        "z1, z2, z3"
      ],
      "execution_count": 9,
      "outputs": [
        {
          "output_type": "execute_result",
          "data": {
            "text/plain": [
              "(tensor([[1., 0., 1., 1.],\n",
              "         [1., 0., 1., 1.],\n",
              "         [1., 0., 1., 1.],\n",
              "         [1., 0., 1., 1.]]), tensor([[1., 0., 1., 1.],\n",
              "         [1., 0., 1., 1.],\n",
              "         [1., 0., 1., 1.],\n",
              "         [1., 0., 1., 1.]]), tensor([[1., 0., 1., 1.],\n",
              "         [1., 0., 1., 1.],\n",
              "         [1., 0., 1., 1.],\n",
              "         [1., 0., 1., 1.]]))"
            ]
          },
          "metadata": {
            "tags": []
          },
          "execution_count": 9
        }
      ]
    },
    {
      "cell_type": "code",
      "metadata": {
        "id": "WTPrF_G4IZWf"
      },
      "source": [
        ""
      ],
      "execution_count": null,
      "outputs": []
    }
  ]
}